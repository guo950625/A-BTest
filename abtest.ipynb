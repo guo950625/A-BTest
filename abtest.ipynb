{
 "cells": [
  {
   "cell_type": "code",
   "execution_count": 115,
   "metadata": {},
   "outputs": [],
   "source": [
    "import numpy as np\n",
    "import matplotlib.pyplot as plt\n",
    "import pandas as pd\n",
    "from scipy import stats"
   ]
  },
  {
   "cell_type": "markdown",
   "metadata": {},
   "source": [
    "## A/B test  for Amazon\n",
    "The goal of running an AB test is to evaluate if a change will lead to improved performance in a specific metric. The change can be very simple alternatives such as changing the look of a single button on a webpage or testing different layouts and headlines. "
   ]
  },
  {
   "cell_type": "markdown",
   "metadata": {},
   "source": [
    "In our cases, we find a A/B test case of Amazon on their landing page of releasing Amazon Vehicles. Amazon is a quie popular and famous e-commerce platform. It has done a lot of A/B testing on their services to always on the hunt for a better UX and improved conversion. \n",
    "Browsing around the website, we can noticed that on the landing page of Amazon Vehicles, they even do A/B testing for their Popular Body Styles section showing.  \n",
    "  \n",
    "A) a gray-ish version of cars and  \n",
    "B) a very colourful version of cars.  \n",
    "  \n",
    "  \n",
    "</br >\n",
    "<center>\n",
    "<img src=\"amazon.jpg\"width=800/>\n",
    "</center>\n",
    "  \n",
    "So, for figuring out whether this difference showing of vehicles' color can lead to a great improvement of user's conversion, which is placing an order or not at here, we can do a A/B test."
   ]
  },
  {
   "cell_type": "markdown",
   "metadata": {},
   "source": [
    "## Dataset"
   ]
  },
  {
   "cell_type": "code",
   "execution_count": 212,
   "metadata": {},
   "outputs": [
    {
     "data": {
      "text/html": [
       "<div>\n",
       "<style scoped>\n",
       "    .dataframe tbody tr th:only-of-type {\n",
       "        vertical-align: middle;\n",
       "    }\n",
       "\n",
       "    .dataframe tbody tr th {\n",
       "        vertical-align: top;\n",
       "    }\n",
       "\n",
       "    .dataframe thead th {\n",
       "        text-align: right;\n",
       "    }\n",
       "</style>\n",
       "<table border=\"1\" class=\"dataframe\">\n",
       "  <thead>\n",
       "    <tr style=\"text-align: right;\">\n",
       "      <th></th>\n",
       "      <th>user_id</th>\n",
       "      <th>timestamp</th>\n",
       "      <th>group</th>\n",
       "      <th>landing_page</th>\n",
       "      <th>converted</th>\n",
       "    </tr>\n",
       "  </thead>\n",
       "  <tbody>\n",
       "    <tr>\n",
       "      <th>0</th>\n",
       "      <td>851104</td>\n",
       "      <td>11:48.6</td>\n",
       "      <td>test</td>\n",
       "      <td>colourful version</td>\n",
       "      <td>0</td>\n",
       "    </tr>\n",
       "    <tr>\n",
       "      <th>1</th>\n",
       "      <td>804228</td>\n",
       "      <td>01:45.2</td>\n",
       "      <td>test</td>\n",
       "      <td>colourful version</td>\n",
       "      <td>0</td>\n",
       "    </tr>\n",
       "    <tr>\n",
       "      <th>2</th>\n",
       "      <td>661590</td>\n",
       "      <td>55:06.2</td>\n",
       "      <td>control</td>\n",
       "      <td>gray-ish version</td>\n",
       "      <td>0</td>\n",
       "    </tr>\n",
       "    <tr>\n",
       "      <th>3</th>\n",
       "      <td>853541</td>\n",
       "      <td>28:03.1</td>\n",
       "      <td>control</td>\n",
       "      <td>gray-ish version</td>\n",
       "      <td>0</td>\n",
       "    </tr>\n",
       "    <tr>\n",
       "      <th>4</th>\n",
       "      <td>864975</td>\n",
       "      <td>52:26.2</td>\n",
       "      <td>test</td>\n",
       "      <td>colourful version</td>\n",
       "      <td>1</td>\n",
       "    </tr>\n",
       "  </tbody>\n",
       "</table>\n",
       "</div>"
      ],
      "text/plain": [
       "   user_id timestamp    group       landing_page  converted\n",
       "0   851104   11:48.6     test  colourful version          0\n",
       "1   804228   01:45.2     test  colourful version          0\n",
       "2   661590   55:06.2  control   gray-ish version          0\n",
       "3   853541   28:03.1  control   gray-ish version          0\n",
       "4   864975   52:26.2     test  colourful version          1"
      ]
     },
     "execution_count": 212,
     "metadata": {},
     "output_type": "execute_result"
    }
   ],
   "source": [
    "ab_data = pd.read_csv(\"ab_data.csv\")\n",
    "ab_data.head()"
   ]
  },
  {
   "cell_type": "code",
   "execution_count": 213,
   "metadata": {},
   "outputs": [],
   "source": [
    "del ab_data['timestamp']"
   ]
  },
  {
   "cell_type": "code",
   "execution_count": 214,
   "metadata": {},
   "outputs": [
    {
     "data": {
      "text/plain": [
       "user_id         0\n",
       "group           0\n",
       "landing_page    0\n",
       "converted       0\n",
       "dtype: int64"
      ]
     },
     "execution_count": 214,
     "metadata": {},
     "output_type": "execute_result"
    }
   ],
   "source": [
    "ab_data.isnull().sum()"
   ]
  },
  {
   "cell_type": "code",
   "execution_count": 215,
   "metadata": {},
   "outputs": [],
   "source": [
    "A_group = ab_data[ab_data['group'] == 'control']\n",
    "B_group = ab_data[ab_data['group'] == 'test']"
   ]
  },
  {
   "cell_type": "code",
   "execution_count": 216,
   "metadata": {},
   "outputs": [
    {
     "data": {
      "text/plain": [
       "(147239, 147239)"
      ]
     },
     "execution_count": 216,
     "metadata": {},
     "output_type": "execute_result"
    }
   ],
   "source": [
    "# total number of people of each group\n",
    "A_total, B_total = len(A_group), len(B_group)\n",
    "A_total, B_total"
   ]
  },
  {
   "cell_type": "code",
   "execution_count": 217,
   "metadata": {},
   "outputs": [
    {
     "data": {
      "text/plain": [
       "(17498, 17739)"
      ]
     },
     "execution_count": 217,
     "metadata": {},
     "output_type": "execute_result"
    }
   ],
   "source": [
    "#converted number of people of each group\n",
    "A_converted, B_converted = A_group['converted'].sum(), B_group['converted'].sum()\n",
    "A_converted, B_converted"
   ]
  },
  {
   "cell_type": "code",
   "execution_count": 218,
   "metadata": {},
   "outputs": [
    {
     "data": {
      "text/plain": [
       "(0.11884079625642663, 0.12047759085568362)"
      ]
     },
     "execution_count": 218,
     "metadata": {},
     "output_type": "execute_result"
    }
   ],
   "source": [
    "#conversion rate of each group\n",
    "p_A, p_B = A_converted / A_total, B_converted / B_total\n",
    "p_A, p_B"
   ]
  },
  {
   "cell_type": "code",
   "execution_count": 219,
   "metadata": {},
   "outputs": [
    {
     "data": {
      "text/plain": [
       "0.0016367945992569882"
      ]
     },
     "execution_count": 219,
     "metadata": {},
     "output_type": "execute_result"
    }
   ],
   "source": [
    "#increased rate\n",
    "p_B - p_A"
   ]
  },
  {
   "cell_type": "code",
   "execution_count": 220,
   "metadata": {},
   "outputs": [
    {
     "data": {
      "text/html": [
       "<div>\n",
       "<style scoped>\n",
       "    .dataframe tbody tr th:only-of-type {\n",
       "        vertical-align: middle;\n",
       "    }\n",
       "\n",
       "    .dataframe tbody tr th {\n",
       "        vertical-align: top;\n",
       "    }\n",
       "\n",
       "    .dataframe thead th {\n",
       "        text-align: right;\n",
       "    }\n",
       "</style>\n",
       "<table border=\"1\" class=\"dataframe\">\n",
       "  <thead>\n",
       "    <tr style=\"text-align: right;\">\n",
       "      <th></th>\n",
       "      <th></th>\n",
       "      <th></th>\n",
       "      <th>number_of user</th>\n",
       "    </tr>\n",
       "    <tr>\n",
       "      <th>group</th>\n",
       "      <th>landing_page</th>\n",
       "      <th>converted</th>\n",
       "      <th></th>\n",
       "    </tr>\n",
       "  </thead>\n",
       "  <tbody>\n",
       "    <tr>\n",
       "      <th rowspan=\"2\" valign=\"top\">control</th>\n",
       "      <th rowspan=\"2\" valign=\"top\">gray-ish version</th>\n",
       "      <th>0</th>\n",
       "      <td>129741</td>\n",
       "    </tr>\n",
       "    <tr>\n",
       "      <th>1</th>\n",
       "      <td>17498</td>\n",
       "    </tr>\n",
       "    <tr>\n",
       "      <th rowspan=\"2\" valign=\"top\">test</th>\n",
       "      <th rowspan=\"2\" valign=\"top\">colourful version</th>\n",
       "      <th>0</th>\n",
       "      <td>129500</td>\n",
       "    </tr>\n",
       "    <tr>\n",
       "      <th>1</th>\n",
       "      <td>17739</td>\n",
       "    </tr>\n",
       "  </tbody>\n",
       "</table>\n",
       "</div>"
      ],
      "text/plain": [
       "                                     number_of user\n",
       "group   landing_page      converted                \n",
       "control gray-ish version  0                  129741\n",
       "                          1                   17498\n",
       "test    colourful version 0                  129500\n",
       "                          1                   17739"
      ]
     },
     "execution_count": 220,
     "metadata": {},
     "output_type": "execute_result"
    }
   ],
   "source": [
    "summary = ab_data.groupby(['group','landing_page','converted']).count()\n",
    "summary.rename(columns={'user_id':'number_of user'}, inplace = True)\n",
    "summary"
   ]
  },
  {
   "cell_type": "markdown",
   "metadata": {},
   "source": [
    "## Null hypothesis test\n",
    "$$ H_0: \\mu1 = \\mu2 $$\n",
    "$$ H_1: \\mu2 > \\mu1 $$\n",
    "\n",
    "Null hypothesis test is usually used to test whehther the mean of two groups of data is significant different. It will assume the difference is not significant defauly and do the z test or t test based on this assumption. And accoring to whether the result we get is match to the H_0 hypothesis, it will choose to reject H_0 or not."
   ]
  },
  {
   "cell_type": "markdown",
   "metadata": {},
   "source": [
    "### Null hypothesis test with number of converted people"
   ]
  },
  {
   "cell_type": "markdown",
   "metadata": {},
   "source": [
    "The null hypothesis in our first test is:\n",
    "* The modify that changing the car's color into colourful from gray in landing page of Amazon Vehicles **would result in no significant change** in the number of the converted people.\n",
    "  \n",
    "It states that the difference in number of the converted people between two groups is not significant. So we can plot distributions for two groups, with the means are each group's number of the converted people, to see the sample's diffrence. And because we are comparing two groups of data, so we should use t test to calculate whether we can reject the null hypothesis."
   ]
  },
  {
   "cell_type": "markdown",
   "metadata": {},
   "source": [
    "In our case, the result of user can only be converted or not (0 and 1), so for each user they are Bernoulli. And for the whole group, the converted number of people will fit binomial distribution which is repeating Bernoulli experiment for serveral time and get the different probability of different converted number of people. So we should plot our gragh with binomial distribution."
   ]
  },
  {
   "cell_type": "code",
   "execution_count": 221,
   "metadata": {},
   "outputs": [
    {
     "data": {
      "text/plain": [
       "Text(0, 0.5, 'probability')"
      ]
     },
     "execution_count": 221,
     "metadata": {},
     "output_type": "execute_result"
    },
    {
     "data": {
      "image/png": "[encoded data removed]",
      "text/plain": [
       "<Figure size 432x288 with 1 Axes>"
      ]
     },
     "metadata": {},
     "output_type": "display_data"
    }
   ],
   "source": [
    "x_A = np.arange(A_converted-500, A_converted+500,50)\n",
    "y_A = stats.binom(A_total, p_A).pmf(x_A)\n",
    "\n",
    "x_B = np.arange(B_converted-500, B_converted+500,50)\n",
    "y_B = stats.binom(B_total, p_B).pmf(x_B)\n",
    "\n",
    "plt.plot(x_A,y_A)\n",
    "plt.plot(x_B,y_B)\n",
    "\n",
    "plt.axvline(x=A_converted,ls=\"--\",c=\"blue\")\n",
    "plt.axvline(x=B_converted,ls=\"--\",c=\"orange\")\n",
    "\n",
    "plt.xlabel('number of converted user')\n",
    "plt.ylabel('probability')"
   ]
  },
  {
   "cell_type": "markdown",
   "metadata": {},
   "source": [
    "In the diagram, the blue curve is the control group and the orange curve is test group. The dash lines are the means which are also the converted number of people for two groups. According to the diagram, we can the area behind the orange dash line but under the blue curve is quite small. So it seems like the test group has a certain distance  from control group. But we still have to use t test to get the precise value. "
   ]
  },
  {
   "cell_type": "markdown",
   "metadata": {},
   "source": [
    "Because the y in the above diagram is the probability, so then, I generate two group of data through generating data randomly  from bimomial distrubtion with each group's sample size and converted probabilty. For example, we test A_total users at a time, each user is with a converted probability of p_A, and after 20000 tests, we can get a group data of the number of converted users in each test. Then the funtion of t test will calculate the mean of two groups' number of converted users automatically and calculate the t value and p value."
   ]
  },
  {
   "cell_type": "code",
   "execution_count": 226,
   "metadata": {},
   "outputs": [],
   "source": [
    "simulation_A = np.random.binomial(A_total, p_A, 2000)\n",
    "simulation_B = np.random.binomial(B_total, p_B, 2000)"
   ]
  },
  {
   "cell_type": "markdown",
   "metadata": {},
   "source": [
    "Before doing t test, we should first test whether the variance of the two groups is similar and we can do it by f test. "
   ]
  },
  {
   "cell_type": "code",
   "execution_count": 227,
   "metadata": {},
   "outputs": [
    {
     "data": {
      "text/plain": [
       "LeveneResult(statistic=2.689849153563407, pvalue=0.10106804362576867)"
      ]
     },
     "execution_count": 227,
     "metadata": {},
     "output_type": "execute_result"
    }
   ],
   "source": [
    "# f-tests\n",
    "stats.levene(simulation_A,simulation_B)"
   ]
  },
  {
   "cell_type": "markdown",
   "metadata": {},
   "source": [
    "The p value of f test is about 0.1 which is higher than 0.05, so the variance of two group is not very similar. We should set the parameter 'equal_var 'in t test funtion as 'False' and it will calculate the t score and p value for us using the calculating way for two groups of sample with unequal variance."
   ]
  },
  {
   "cell_type": "code",
   "execution_count": 228,
   "metadata": {},
   "outputs": [
    {
     "data": {
      "text/plain": [
       "Ttest_indResult(statistic=60.97514905613119, pvalue=0.0)"
      ]
     },
     "execution_count": 228,
     "metadata": {},
     "output_type": "execute_result"
    }
   ],
   "source": [
    "# t-test\n",
    "stats.ttest_ind(simulation_B,simulation_A,equal_var= False)"
   ]
  },
  {
   "cell_type": "markdown",
   "metadata": {},
   "source": [
    "The p value is showed as 0. Though it must not exactlly equal to 0 but it must be really small and much lower than the commom alpha 5% or even 1%. It represent we should reject the null hypothesis and the convert number of people of two group is significant different."
   ]
  },
  {
   "cell_type": "markdown",
   "metadata": {},
   "source": [
    "## Null hypothesis with conversion rate"
   ]
  },
  {
   "cell_type": "markdown",
   "metadata": {},
   "source": [
    "The null hypothesis in our second test is:\n",
    "* The modify that changing the car's color into colourful in landing page of Amazon Vehicles **would result in no significant change** in the conversion rate.\n",
    "  \n",
    "It states that the difference in conversion rate between two groups is not significant. So we can salo plot distributions for two groups, with the means are each group's conversion rate. And we wil still use t test to calculate whether we can reject the null hypothesis."
   ]
  },
  {
   "cell_type": "markdown",
   "metadata": {},
   "source": [
    "#### Theory of ploting conversion rate's distribution"
   ]
  },
  {
   "cell_type": "markdown",
   "metadata": {},
   "source": [
    "According to the properties of the Bernoulli distribution, when there are a population whose individuals are Bernoulli, the mean and variance of population are as follows where p is the conversion porability:\n",
    "\n",
    "$$ E(X) = p $$\n",
    "\n",
    "$$ Var(X) = p(1-p) $$ "
   ]
  },
  {
   "cell_type": "markdown",
   "metadata": {},
   "source": [
    "According to the central limit theorem, the distribution of the sample means will be normally distributed around the true mean with a standard deviation.  "
   ]
  },
  {
   "cell_type": "markdown",
   "metadata": {},
   "source": [
    "Therefore, we can represent both groups as a normal distribution with the following properties where n is the number of sample and p is conversion rate.\n",
    "\n",
    "$$ \\hat{p} \\sim Normal\\left(\\mu = p, \\: \\sigma = \\frac{\\sqrt{p(1-p)}}{\\sqrt{n}}\\right) $$"
   ]
  },
  {
   "cell_type": "code",
   "execution_count": 229,
   "metadata": {},
   "outputs": [
    {
     "data": {
      "text/plain": [
       "0.000843331918405358"
      ]
     },
     "execution_count": 229,
     "metadata": {},
     "output_type": "execute_result"
    }
   ],
   "source": [
    "# calcuate standard deviation\n",
    "SE_A = np.sqrt(p_A * (1-p_A)) / np.sqrt(A_total)\n",
    "SE_A"
   ]
  },
  {
   "cell_type": "code",
   "execution_count": 230,
   "metadata": {},
   "outputs": [
    {
     "data": {
      "text/plain": [
       "0.0008483306578616093"
      ]
     },
     "execution_count": 230,
     "metadata": {},
     "output_type": "execute_result"
    }
   ],
   "source": [
    "SE_B = np.sqrt(p_B * (1-p_B)) / np.sqrt(B_total)\n",
    "SE_B"
   ]
  },
  {
   "cell_type": "code",
   "execution_count": 239,
   "metadata": {},
   "outputs": [
    {
     "data": {
      "text/plain": [
       "[<matplotlib.lines.Line2D at 0x1a2b85a0b8>]"
      ]
     },
     "execution_count": 239,
     "metadata": {},
     "output_type": "execute_result"
    },
    {
     "data": {
      "image/png": "[encoded data removed]",
      "text/plain": [
       "<Figure size 432x288 with 1 Axes>"
      ]
     },
     "metadata": {},
     "output_type": "display_data"
    }
   ],
   "source": [
    "xA = np.linspace(.114, .125, 1000)\n",
    "yA = stats.norm(p_A, SE_A).pdf(xA)\n",
    "\n",
    "xB = np.linspace(.114, .125, 1000)\n",
    "yB = stats.norm(p_B, SE_B).pdf(xB)\n",
    "\n",
    "plt.axvline(x=p_A,ls=\"--\",c=\"blue\")\n",
    "plt.axvline(x=p_B,ls=\"--\",c=\"orange\")\n",
    "\n",
    "plt.plot(xA, yA)\n",
    "plt.plot(xB, yB)"
   ]
  },
  {
   "cell_type": "markdown",
   "metadata": {},
   "source": [
    "In the diagram, we can the area behind the orange dash line but under the blue curve is also quite small.  \n",
    "  \n",
    "But the y in the above diagram is the density of different conversion rate, so I generate two group of data through generating data randomly from normal distrubtion with each group's conversion rate and standard deviation. "
   ]
  },
  {
   "cell_type": "code",
   "execution_count": 240,
   "metadata": {},
   "outputs": [],
   "source": [
    "simulation_A = np.random.normal(p_A, SE_A, 2000)\n",
    "simulation_B = np.random.normal(p_B, SE_B, 2000)"
   ]
  },
  {
   "cell_type": "code",
   "execution_count": 241,
   "metadata": {},
   "outputs": [
    {
     "data": {
      "text/plain": [
       "LeveneResult(statistic=0.34274741510698875, pvalue=0.5582806811950027)"
      ]
     },
     "execution_count": 241,
     "metadata": {},
     "output_type": "execute_result"
    }
   ],
   "source": [
    "# f-tests\n",
    "stats.levene(simulation_A, simulation_B)"
   ]
  },
  {
   "cell_type": "code",
   "execution_count": 242,
   "metadata": {},
   "outputs": [
    {
     "data": {
      "text/plain": [
       "Ttest_indResult(statistic=62.25471129546437, pvalue=0.0)"
      ]
     },
     "execution_count": 242,
     "metadata": {},
     "output_type": "execute_result"
    }
   ],
   "source": [
    "# t-tests\n",
    "stats.ttest_ind(simulation_B, simulation_A, equal_var=False)"
   ]
  },
  {
   "cell_type": "markdown",
   "metadata": {},
   "source": [
    "The p value is also showed as 0 which represents we should reject the null hypothesis and the conversion rate of two group is significant different."
   ]
  },
  {
   "cell_type": "markdown",
   "metadata": {},
   "source": [
    "## Summary\n",
    "Through our A/B test for both converted number of user and conversion rate, we get both quite small p value in t test. We should confirm the difference showing of vehicles' color in landing page is helpful. The colourful showing of vehicles on page might can stimulate user's interesting to see more details and then lead to the increased probabilty of purchase."
   ]
  }
 ],
 "metadata": {
  "kernelspec": {
   "display_name": "Python 3",
   "language": "python",
   "name": "python3"
  },
  "language_info": {
   "codemirror_mode": {
    "name": "ipython",
    "version": 3
   },
   "file_extension": ".py",
   "mimetype": "text/x-python",
   "name": "python",
   "nbconvert_exporter": "python",
   "pygments_lexer": "ipython3",
   "version": "3.6.9"
  }
 },
 "nbformat": 4,
 "nbformat_minor": 2
}
